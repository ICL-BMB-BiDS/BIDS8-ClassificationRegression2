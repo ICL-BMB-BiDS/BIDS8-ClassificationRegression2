{
 "cells": [
  {
   "cell_type": "markdown",
   "id": "929e0810-8aeb-4847-ad9e-1118a658bb8f",
   "metadata": {
    "tags": []
   },
   "source": [
    "# __Classification__"
   ]
  },
  {
   "cell_type": "markdown",
   "id": "01eb3e6b-020b-482c-81c5-36c5f344b28a",
   "metadata": {},
   "source": [
    "Learning Outcomes:\n",
    "- Apply SVC to data sets to predict binary outcome measures (groups)\n",
    "- Explore different metrics to evaluate the model performance in classification settings and visualise variable importance\n",
    "- Investigate the effect of using different types of kernels on the model performance\n",
    "- Apply SVMs in a regression setting using SVR"
   ]
  },
  {
   "cell_type": "code",
   "execution_count": 1,
   "id": "1ecb867c-bc9b-4a11-a226-354010264890",
   "metadata": {},
   "outputs": [],
   "source": [
    " # IMPORTS\n",
    "    \n",
    "from sklearn.svm import SVC, LinearSVC, NuSVC, SVR, NuSVR, LinearSVR\n",
    "from sklearn.model_selection import GridSearchCV, train_test_split\n",
    "from sklearn.feature_selection import RFECV\n",
    "from sklearn.preprocessing import StandardScaler\n",
    "import matplotlib.pyplot as plt\n",
    "import seaborn as sns\n",
    "import pandas as pd\n",
    "import numpy as np\n",
    "from sklearn.metrics import roc_curve, confusion_matrix, roc_auc_score, f1_score, accuracy_score, balanced_accuracy_score, classification_report, r2_score\n"
   ]
  },
  {
   "cell_type": "code",
   "execution_count": 2,
   "id": "e0e98268-4f40-4dc0-814c-78ad92d953db",
   "metadata": {},
   "outputs": [],
   "source": [
    "diabetes_metabol_plasma = pd.read_excel('../Data/diabetes_metabolomics_plasma.xlsx')\n",
    "diabetes_metabol_saliva = pd.read_excel('../Data/diabetes_metabolomics_saliva.xlsx')"
   ]
  },
  {
   "cell_type": "code",
   "execution_count": 3,
   "id": "d1d60449-a831-403d-aa3f-ed7955faddc1",
   "metadata": {},
   "outputs": [
    {
     "data": {
      "text/html": [
       "<div>\n",
       "<style scoped>\n",
       "    .dataframe tbody tr th:only-of-type {\n",
       "        vertical-align: middle;\n",
       "    }\n",
       "\n",
       "    .dataframe tbody tr th {\n",
       "        vertical-align: top;\n",
       "    }\n",
       "\n",
       "    .dataframe thead th {\n",
       "        text-align: right;\n",
       "    }\n",
       "</style>\n",
       "<table border=\"1\" class=\"dataframe\">\n",
       "  <thead>\n",
       "    <tr style=\"text-align: right;\">\n",
       "      <th></th>\n",
       "      <th>AGE</th>\n",
       "      <th>GENDER</th>\n",
       "      <th>BMI</th>\n",
       "      <th>ETH</th>\n",
       "      <th>T2D</th>\n",
       "      <th>sample_id</th>\n",
       "      <th>1,11-Undecanedicarboxylic acid</th>\n",
       "      <th>1,2-dipalmitoylglycerol</th>\n",
       "      <th>1,2-propanediol</th>\n",
       "      <th>1,3,7-trimethylurate</th>\n",
       "      <th>...</th>\n",
       "      <th>tyrosine</th>\n",
       "      <th>undecanoate (11:0)</th>\n",
       "      <th>urate</th>\n",
       "      <th>urea</th>\n",
       "      <th>uridine</th>\n",
       "      <th>valine</th>\n",
       "      <th>xanthine</th>\n",
       "      <th>xylitol</th>\n",
       "      <th>xylonate</th>\n",
       "      <th>xylose</th>\n",
       "    </tr>\n",
       "  </thead>\n",
       "  <tbody>\n",
       "    <tr>\n",
       "      <th>0</th>\n",
       "      <td>34.505133</td>\n",
       "      <td>0</td>\n",
       "      <td>25.010211</td>\n",
       "      <td>2</td>\n",
       "      <td>0</td>\n",
       "      <td>QMDiab-ID222</td>\n",
       "      <td>4.015998</td>\n",
       "      <td>4.822787</td>\n",
       "      <td>5.098491</td>\n",
       "      <td>4.430118</td>\n",
       "      <td>...</td>\n",
       "      <td>6.844272</td>\n",
       "      <td>4.885885</td>\n",
       "      <td>5.824023</td>\n",
       "      <td>7.577408</td>\n",
       "      <td>5.290736</td>\n",
       "      <td>7.239540</td>\n",
       "      <td>4.254777</td>\n",
       "      <td>4.052859</td>\n",
       "      <td>4.387091</td>\n",
       "      <td>4.676128</td>\n",
       "    </tr>\n",
       "    <tr>\n",
       "      <th>1</th>\n",
       "      <td>47.066393</td>\n",
       "      <td>1</td>\n",
       "      <td>28.367759</td>\n",
       "      <td>3</td>\n",
       "      <td>0</td>\n",
       "      <td>QMDiab-ID113</td>\n",
       "      <td>4.165116</td>\n",
       "      <td>4.991613</td>\n",
       "      <td>5.064084</td>\n",
       "      <td>4.585177</td>\n",
       "      <td>...</td>\n",
       "      <td>6.755005</td>\n",
       "      <td>4.777224</td>\n",
       "      <td>5.990350</td>\n",
       "      <td>7.465627</td>\n",
       "      <td>5.220019</td>\n",
       "      <td>7.348071</td>\n",
       "      <td>4.183861</td>\n",
       "      <td>4.341484</td>\n",
       "      <td>4.460427</td>\n",
       "      <td>4.585401</td>\n",
       "    </tr>\n",
       "    <tr>\n",
       "      <th>2</th>\n",
       "      <td>55.490760</td>\n",
       "      <td>1</td>\n",
       "      <td>29.705644</td>\n",
       "      <td>1</td>\n",
       "      <td>0</td>\n",
       "      <td>QMDiab-ID29</td>\n",
       "      <td>3.928917</td>\n",
       "      <td>4.965361</td>\n",
       "      <td>5.185007</td>\n",
       "      <td>4.006547</td>\n",
       "      <td>...</td>\n",
       "      <td>6.971284</td>\n",
       "      <td>4.737634</td>\n",
       "      <td>5.892525</td>\n",
       "      <td>7.433326</td>\n",
       "      <td>5.188568</td>\n",
       "      <td>7.356957</td>\n",
       "      <td>4.350213</td>\n",
       "      <td>4.101610</td>\n",
       "      <td>4.726884</td>\n",
       "      <td>4.785554</td>\n",
       "    </tr>\n",
       "    <tr>\n",
       "      <th>3</th>\n",
       "      <td>56.334018</td>\n",
       "      <td>1</td>\n",
       "      <td>23.140496</td>\n",
       "      <td>2</td>\n",
       "      <td>0</td>\n",
       "      <td>QMDiab-ID243</td>\n",
       "      <td>4.272476</td>\n",
       "      <td>4.819821</td>\n",
       "      <td>5.015473</td>\n",
       "      <td>4.564346</td>\n",
       "      <td>...</td>\n",
       "      <td>6.943175</td>\n",
       "      <td>4.736576</td>\n",
       "      <td>5.832160</td>\n",
       "      <td>7.422004</td>\n",
       "      <td>5.037060</td>\n",
       "      <td>7.260422</td>\n",
       "      <td>4.037787</td>\n",
       "      <td>4.111296</td>\n",
       "      <td>4.488342</td>\n",
       "      <td>4.696762</td>\n",
       "    </tr>\n",
       "    <tr>\n",
       "      <th>4</th>\n",
       "      <td>35.630390</td>\n",
       "      <td>1</td>\n",
       "      <td>30.062295</td>\n",
       "      <td>1</td>\n",
       "      <td>0</td>\n",
       "      <td>QMDiab-ID270</td>\n",
       "      <td>3.914247</td>\n",
       "      <td>4.900546</td>\n",
       "      <td>5.264884</td>\n",
       "      <td>3.719528</td>\n",
       "      <td>...</td>\n",
       "      <td>7.068370</td>\n",
       "      <td>4.754971</td>\n",
       "      <td>6.013982</td>\n",
       "      <td>7.786201</td>\n",
       "      <td>5.388167</td>\n",
       "      <td>7.377851</td>\n",
       "      <td>4.211793</td>\n",
       "      <td>4.099279</td>\n",
       "      <td>4.545646</td>\n",
       "      <td>4.630343</td>\n",
       "    </tr>\n",
       "    <tr>\n",
       "      <th>...</th>\n",
       "      <td>...</td>\n",
       "      <td>...</td>\n",
       "      <td>...</td>\n",
       "      <td>...</td>\n",
       "      <td>...</td>\n",
       "      <td>...</td>\n",
       "      <td>...</td>\n",
       "      <td>...</td>\n",
       "      <td>...</td>\n",
       "      <td>...</td>\n",
       "      <td>...</td>\n",
       "      <td>...</td>\n",
       "      <td>...</td>\n",
       "      <td>...</td>\n",
       "      <td>...</td>\n",
       "      <td>...</td>\n",
       "      <td>...</td>\n",
       "      <td>...</td>\n",
       "      <td>...</td>\n",
       "      <td>...</td>\n",
       "      <td>...</td>\n",
       "    </tr>\n",
       "    <tr>\n",
       "      <th>351</th>\n",
       "      <td>41.555099</td>\n",
       "      <td>1</td>\n",
       "      <td>31.226902</td>\n",
       "      <td>3</td>\n",
       "      <td>1</td>\n",
       "      <td>QMDiab-ID352</td>\n",
       "      <td>3.789043</td>\n",
       "      <td>5.031615</td>\n",
       "      <td>5.027154</td>\n",
       "      <td>4.505149</td>\n",
       "      <td>...</td>\n",
       "      <td>7.031340</td>\n",
       "      <td>4.738535</td>\n",
       "      <td>5.999672</td>\n",
       "      <td>7.542517</td>\n",
       "      <td>5.240683</td>\n",
       "      <td>7.371381</td>\n",
       "      <td>4.560466</td>\n",
       "      <td>4.184835</td>\n",
       "      <td>4.416036</td>\n",
       "      <td>4.757752</td>\n",
       "    </tr>\n",
       "    <tr>\n",
       "      <th>352</th>\n",
       "      <td>52.553046</td>\n",
       "      <td>0</td>\n",
       "      <td>29.075772</td>\n",
       "      <td>2</td>\n",
       "      <td>1</td>\n",
       "      <td>QMDiab-ID135</td>\n",
       "      <td>3.855711</td>\n",
       "      <td>5.373312</td>\n",
       "      <td>5.659572</td>\n",
       "      <td>3.655574</td>\n",
       "      <td>...</td>\n",
       "      <td>6.754284</td>\n",
       "      <td>4.746028</td>\n",
       "      <td>5.766906</td>\n",
       "      <td>7.492505</td>\n",
       "      <td>5.200934</td>\n",
       "      <td>7.252580</td>\n",
       "      <td>4.302257</td>\n",
       "      <td>4.209577</td>\n",
       "      <td>4.641497</td>\n",
       "      <td>5.819027</td>\n",
       "    </tr>\n",
       "    <tr>\n",
       "      <th>353</th>\n",
       "      <td>30.313484</td>\n",
       "      <td>0</td>\n",
       "      <td>22.226562</td>\n",
       "      <td>2</td>\n",
       "      <td>0</td>\n",
       "      <td>QMDiab-ID229</td>\n",
       "      <td>4.358841</td>\n",
       "      <td>4.959806</td>\n",
       "      <td>5.193048</td>\n",
       "      <td>4.196916</td>\n",
       "      <td>...</td>\n",
       "      <td>6.898343</td>\n",
       "      <td>4.765964</td>\n",
       "      <td>5.689269</td>\n",
       "      <td>7.383221</td>\n",
       "      <td>5.286181</td>\n",
       "      <td>7.198497</td>\n",
       "      <td>4.295138</td>\n",
       "      <td>4.048126</td>\n",
       "      <td>4.469194</td>\n",
       "      <td>4.646456</td>\n",
       "    </tr>\n",
       "    <tr>\n",
       "      <th>354</th>\n",
       "      <td>49.409993</td>\n",
       "      <td>1</td>\n",
       "      <td>33.720082</td>\n",
       "      <td>1</td>\n",
       "      <td>1</td>\n",
       "      <td>QMDiab-ID202</td>\n",
       "      <td>3.826609</td>\n",
       "      <td>4.992705</td>\n",
       "      <td>5.008776</td>\n",
       "      <td>4.296090</td>\n",
       "      <td>...</td>\n",
       "      <td>7.024660</td>\n",
       "      <td>4.647837</td>\n",
       "      <td>5.957494</td>\n",
       "      <td>7.529234</td>\n",
       "      <td>5.175298</td>\n",
       "      <td>7.365286</td>\n",
       "      <td>4.689517</td>\n",
       "      <td>4.469283</td>\n",
       "      <td>4.611671</td>\n",
       "      <td>4.756934</td>\n",
       "    </tr>\n",
       "    <tr>\n",
       "      <th>355</th>\n",
       "      <td>23.854894</td>\n",
       "      <td>0</td>\n",
       "      <td>35.963892</td>\n",
       "      <td>1</td>\n",
       "      <td>0</td>\n",
       "      <td>QMDiab-ID103</td>\n",
       "      <td>3.823930</td>\n",
       "      <td>4.762311</td>\n",
       "      <td>5.167164</td>\n",
       "      <td>3.927268</td>\n",
       "      <td>...</td>\n",
       "      <td>6.936854</td>\n",
       "      <td>4.722305</td>\n",
       "      <td>5.954058</td>\n",
       "      <td>7.574341</td>\n",
       "      <td>5.259904</td>\n",
       "      <td>7.304744</td>\n",
       "      <td>4.570239</td>\n",
       "      <td>4.153601</td>\n",
       "      <td>4.480697</td>\n",
       "      <td>4.747287</td>\n",
       "    </tr>\n",
       "  </tbody>\n",
       "</table>\n",
       "<p>356 rows × 328 columns</p>\n",
       "</div>"
      ],
      "text/plain": [
       "           AGE  GENDER        BMI  ETH  T2D     sample_id  \\\n",
       "0    34.505133       0  25.010211    2    0  QMDiab-ID222   \n",
       "1    47.066393       1  28.367759    3    0  QMDiab-ID113   \n",
       "2    55.490760       1  29.705644    1    0   QMDiab-ID29   \n",
       "3    56.334018       1  23.140496    2    0  QMDiab-ID243   \n",
       "4    35.630390       1  30.062295    1    0  QMDiab-ID270   \n",
       "..         ...     ...        ...  ...  ...           ...   \n",
       "351  41.555099       1  31.226902    3    1  QMDiab-ID352   \n",
       "352  52.553046       0  29.075772    2    1  QMDiab-ID135   \n",
       "353  30.313484       0  22.226562    2    0  QMDiab-ID229   \n",
       "354  49.409993       1  33.720082    1    1  QMDiab-ID202   \n",
       "355  23.854894       0  35.963892    1    0  QMDiab-ID103   \n",
       "\n",
       "     1,11-Undecanedicarboxylic acid  1,2-dipalmitoylglycerol  1,2-propanediol  \\\n",
       "0                          4.015998                 4.822787         5.098491   \n",
       "1                          4.165116                 4.991613         5.064084   \n",
       "2                          3.928917                 4.965361         5.185007   \n",
       "3                          4.272476                 4.819821         5.015473   \n",
       "4                          3.914247                 4.900546         5.264884   \n",
       "..                              ...                      ...              ...   \n",
       "351                        3.789043                 5.031615         5.027154   \n",
       "352                        3.855711                 5.373312         5.659572   \n",
       "353                        4.358841                 4.959806         5.193048   \n",
       "354                        3.826609                 4.992705         5.008776   \n",
       "355                        3.823930                 4.762311         5.167164   \n",
       "\n",
       "     1,3,7-trimethylurate  ...  tyrosine  undecanoate (11:0)     urate  \\\n",
       "0                4.430118  ...  6.844272            4.885885  5.824023   \n",
       "1                4.585177  ...  6.755005            4.777224  5.990350   \n",
       "2                4.006547  ...  6.971284            4.737634  5.892525   \n",
       "3                4.564346  ...  6.943175            4.736576  5.832160   \n",
       "4                3.719528  ...  7.068370            4.754971  6.013982   \n",
       "..                    ...  ...       ...                 ...       ...   \n",
       "351              4.505149  ...  7.031340            4.738535  5.999672   \n",
       "352              3.655574  ...  6.754284            4.746028  5.766906   \n",
       "353              4.196916  ...  6.898343            4.765964  5.689269   \n",
       "354              4.296090  ...  7.024660            4.647837  5.957494   \n",
       "355              3.927268  ...  6.936854            4.722305  5.954058   \n",
       "\n",
       "         urea   uridine    valine  xanthine   xylitol  xylonate    xylose  \n",
       "0    7.577408  5.290736  7.239540  4.254777  4.052859  4.387091  4.676128  \n",
       "1    7.465627  5.220019  7.348071  4.183861  4.341484  4.460427  4.585401  \n",
       "2    7.433326  5.188568  7.356957  4.350213  4.101610  4.726884  4.785554  \n",
       "3    7.422004  5.037060  7.260422  4.037787  4.111296  4.488342  4.696762  \n",
       "4    7.786201  5.388167  7.377851  4.211793  4.099279  4.545646  4.630343  \n",
       "..        ...       ...       ...       ...       ...       ...       ...  \n",
       "351  7.542517  5.240683  7.371381  4.560466  4.184835  4.416036  4.757752  \n",
       "352  7.492505  5.200934  7.252580  4.302257  4.209577  4.641497  5.819027  \n",
       "353  7.383221  5.286181  7.198497  4.295138  4.048126  4.469194  4.646456  \n",
       "354  7.529234  5.175298  7.365286  4.689517  4.469283  4.611671  4.756934  \n",
       "355  7.574341  5.259904  7.304744  4.570239  4.153601  4.480697  4.747287  \n",
       "\n",
       "[356 rows x 328 columns]"
      ]
     },
     "metadata": {},
     "output_type": "display_data"
    },
    {
     "data": {
      "text/plain": [
       "1    179\n",
       "0    177\n",
       "Name: T2D, dtype: int64"
      ]
     },
     "metadata": {},
     "output_type": "display_data"
    }
   ],
   "source": [
    "display(diabetes_metabol_plasma)\n",
    "display(diabetes_metabol_plasma.T2D.value_counts())\n"
   ]
  },
  {
   "cell_type": "markdown",
   "id": "675c9fef-59d3-4ffe-bca5-5916c7e92b2e",
   "metadata": {},
   "source": [
    "### Preprocessing "
   ]
  },
  {
   "cell_type": "code",
   "execution_count": 36,
   "id": "fd2f83ea-6df8-4732-b628-812595d75d2e",
   "metadata": {},
   "outputs": [],
   "source": [
    "# Split the data into train and test sets\n",
    "X_train_unscaled, X_test_unscaled, y_train, y_test = train_test_split(diabetes_metabol_plasma.iloc[:, 6:], diabetes_metabol_plasma.T2D, test_size=0.2, random_state=56)\n"
   ]
  },
  {
   "cell_type": "markdown",
   "id": "eb754043-0e02-43e2-8f69-eda42b9bf668",
   "metadata": {},
   "source": [
    "If you `display(X_test_unscaled, y_test)` you will notice that the function retains the index values for each sample, so you can check that the splitting and the respective `y` targets (T2D status) have been split correctly. "
   ]
  },
  {
   "cell_type": "code",
   "execution_count": 37,
   "id": "be45772c-d98a-4254-ae97-ed6a46fdc89d",
   "metadata": {},
   "outputs": [],
   "source": [
    "# Scale the data with standard scaling (0 mean and unit variance)\n",
    "scaler = StandardScaler()\n",
    "X_train = scaler.fit_transform(X_train_unscaled)\n",
    "X_test = scaler.transform(X_test_unscaled)"
   ]
  },
  {
   "cell_type": "markdown",
   "id": "d3b65cb9-b4b9-4a19-8f38-95056dbd2486",
   "metadata": {
    "tags": []
   },
   "source": [
    "## Support Vector Classifiers"
   ]
  },
  {
   "cell_type": "code",
   "execution_count": 38,
   "id": "25287805-6d19-44c6-9aab-d0545ca65987",
   "metadata": {},
   "outputs": [],
   "source": [
    "# Define the classifier with the standard parameters set by sklearn \n",
    "clf = SVC(kernel='rbf')\n",
    "\n",
    "# Fit your first SVC model \n",
    "clf.fit(X_train, y_train)\n",
    "\n",
    "# Predict the test set \n",
    "y_pred = clf.predict(X_test)\n"
   ]
  },
  {
   "cell_type": "code",
   "execution_count": 39,
   "id": "e6b883b3-5f1e-4e15-8966-75e22c266ad9",
   "metadata": {},
   "outputs": [],
   "source": [
    "# Now let's try with a linear kernel...\n",
    "clf_linear = LinearSVC(C=1.4)\n",
    "\n",
    "# Fit your first SVC model \n",
    "clf_linear.fit(X_train, y_train)\n",
    "\n",
    "# Predict the test set \n",
    "y_pred_linear = clf_linear.predict(X_test)"
   ]
  },
  {
   "cell_type": "markdown",
   "id": "49b1783a-614d-476f-a810-0428d4c116e9",
   "metadata": {
    "tags": []
   },
   "source": [
    "### Accuracy metrics\n",
    "\n",
    "We will explore a variety of metrics commonly used to evaluate classification models. The functions we will use are all found under `sklearn.metrics`. Please take some time to read the [documentation](https://scikit-learn.org/stable/modules/model_evaluation.html) and familiarise yourself with the differences between accuracy, AUC (Area Under the ROC Curve), f1 score, precision, recall etc. "
   ]
  },
  {
   "cell_type": "code",
   "execution_count": 17,
   "id": "0986f953-4833-4ba4-9b14-06bb6b78ed49",
   "metadata": {},
   "outputs": [
    {
     "data": {
      "text/plain": [
       "0.8333333333333334"
      ]
     },
     "metadata": {},
     "output_type": "display_data"
    }
   ],
   "source": [
    "accuracy = accuracy_score(y_test, y_pred)\n",
    "display(accuracy)"
   ]
  },
  {
   "cell_type": "code",
   "execution_count": 18,
   "id": "16a3eaae-5006-42e4-b68b-8c73baf95472",
   "metadata": {},
   "outputs": [
    {
     "data": {
      "text/plain": [
       "array([[28,  8],\n",
       "       [ 4, 32]])"
      ]
     },
     "metadata": {},
     "output_type": "display_data"
    },
    {
     "data": {
      "text/plain": [
       "[Text(0, 0.5, 'Healthy'), Text(0, 1.5, 'T2D')]"
      ]
     },
     "execution_count": 18,
     "metadata": {},
     "output_type": "execute_result"
    },
    {
     "data": {
      "image/png": "[encoded data removed]",
      "text/plain": [
       "<Figure size 432x288 with 2 Axes>"
      ]
     },
     "metadata": {
      "needs_background": "light"
     },
     "output_type": "display_data"
    }
   ],
   "source": [
    "ax = plt.subplot()\n",
    "cm = confusion_matrix(y_test, y_pred)\n",
    "display(cm)\n",
    "sns.heatmap(cm, annot=True, ax=ax, cmap='Greens'); #annot=True to annotate cells\n",
    "ax.set_xlabel('Predicted status')\n",
    "ax.set_ylabel('True status')\n",
    "ax.set_title('Confusion Matrix')\n",
    "\n",
    "# in this case 0 is Healthy and 1 is T2D samples therefore we can name the labels \n",
    "ax.xaxis.set_ticklabels(['Healthy', 'T2D'])\n",
    "ax.yaxis.set_ticklabels(['Healthy', 'T2D'])"
   ]
  },
  {
   "cell_type": "code",
   "execution_count": 19,
   "id": "bee059d4-6321-4c51-a1e1-0251f55370bc",
   "metadata": {},
   "outputs": [
    {
     "data": {
      "text/plain": [
       "0.9513888888888888"
      ]
     },
     "metadata": {},
     "output_type": "display_data"
    },
    {
     "data": {
      "text/plain": [
       "0.9513888888888888"
      ]
     },
     "metadata": {},
     "output_type": "display_data"
    },
    {
     "data": {
      "text/plain": [
       "0.9513888888888888"
      ]
     },
     "metadata": {},
     "output_type": "display_data"
    }
   ],
   "source": [
    "auc = roc_auc_score(y_test, clf.decision_function(X_test), average='macro')\n",
    "display(auc)\n",
    "\n",
    "auc = roc_auc_score(y_test, clf.decision_function(X_test), average='micro')\n",
    "display(auc)\n",
    "\n",
    "auc = roc_auc_score(y_test, clf.decision_function(X_test), average='weighted')\n",
    "display(auc)"
   ]
  },
  {
   "cell_type": "code",
   "execution_count": 20,
   "id": "985c310f-51cd-4688-878f-31ecf4158e4a",
   "metadata": {},
   "outputs": [
    {
     "data": {
      "text/plain": [
       "(array([0.        , 0.        , 0.        , 0.08333333, 0.08333333,\n",
       "        0.11111111, 0.11111111, 0.25      , 0.25      , 0.36111111,\n",
       "        0.36111111, 0.41666667, 0.41666667, 1.        ]),\n",
       " array([0.        , 0.02777778, 0.80555556, 0.80555556, 0.83333333,\n",
       "        0.83333333, 0.88888889, 0.88888889, 0.91666667, 0.91666667,\n",
       "        0.94444444, 0.94444444, 1.        , 1.        ]),\n",
       " array([ 2.84143408,  1.84143408,  0.27115093,  0.20212382,  0.16269552,\n",
       "         0.14901622,  0.13282756, -0.01693465, -0.0297349 , -0.1133419 ,\n",
       "        -0.16006657, -0.22981329, -0.3068528 , -1.24459648]))"
      ]
     },
     "metadata": {},
     "output_type": "display_data"
    }
   ],
   "source": [
    "roc = roc_curve(y_test, clf.decision_function(X_test))\n",
    "display(roc)\n",
    "fpr = roc[0]\n",
    "tpr = roc[1]"
   ]
  },
  {
   "cell_type": "code",
   "execution_count": 21,
   "id": "698e6ad6-df09-4b5b-826f-9015d3ed803b",
   "metadata": {},
   "outputs": [
    {
     "name": "stderr",
     "output_type": "stream",
     "text": [
      "/home/mk218/anaconda3/envs/py38/lib/python3.8/site-packages/seaborn/_decorators.py:36: FutureWarning: Pass the following variables as keyword args: x, y. From version 0.12, the only valid positional argument will be `data`, and passing other arguments without an explicit keyword will result in an error or misinterpretation.\n",
      "  warnings.warn(\n",
      "/home/mk218/anaconda3/envs/py38/lib/python3.8/site-packages/seaborn/_decorators.py:36: FutureWarning: Pass the following variables as keyword args: x, y. From version 0.12, the only valid positional argument will be `data`, and passing other arguments without an explicit keyword will result in an error or misinterpretation.\n",
      "  warnings.warn(\n"
     ]
    },
    {
     "data": {
      "text/plain": [
       "<matplotlib.legend.Legend at 0x7fedd3fdbd00>"
      ]
     },
     "execution_count": 21,
     "metadata": {},
     "output_type": "execute_result"
    },
    {
     "data": {
      "image/png": "[encoded data removed]",
      "text/plain": [
       "<Figure size 432x288 with 1 Axes>"
      ]
     },
     "metadata": {
      "needs_background": "light"
     },
     "output_type": "display_data"
    }
   ],
   "source": [
    "sns.lineplot(fpr,tpr,lw=2,label=\"ROC curve (area = %0.2f)\" % auc, ci=None)\n",
    "sns.lineplot([0, 1], [0, 1], lw=2, linestyle=\"--\")\n",
    "plt.xlim([0.0, 1.0])\n",
    "plt.ylim([0.0, 1.05])\n",
    "plt.xlabel(\"False Positive Rate\")\n",
    "plt.ylabel(\"True Positive Rate\")\n",
    "plt.title(\"ROC\")\n",
    "plt.legend(loc=\"lower right\")\n"
   ]
  },
  {
   "cell_type": "code",
   "execution_count": 22,
   "id": "e33c4a94-8f18-4ec2-ae16-b9c9e0bf6863",
   "metadata": {},
   "outputs": [
    {
     "data": {
      "text/plain": [
       "0.8421052631578948"
      ]
     },
     "metadata": {},
     "output_type": "display_data"
    }
   ],
   "source": [
    "f1 = f1_score(y_test, y_pred)\n",
    "display(f1)"
   ]
  },
  {
   "cell_type": "code",
   "execution_count": null,
   "id": "f20a9150-152e-442e-8a63-4218f21e8bc6",
   "metadata": {},
   "outputs": [],
   "source": [
    "# Try calculating the above metrics for the Linear kernel predictions...\n",
    "\n"
   ]
  },
  {
   "cell_type": "markdown",
   "id": "31cf56f2-b08a-467a-9ea5-510da2938edc",
   "metadata": {},
   "source": [
    "### Parameter optimisation"
   ]
  },
  {
   "cell_type": "markdown",
   "id": "900a8c56-20a6-436c-9285-a89d28bfac3a",
   "metadata": {},
   "source": [
    "You will notice that the `SVC()` function used above contains a number of parameters that need to be set by the user in order to optimise the model. The parameter `C` functions as a regularisation parameter and non-linear kernels (like the radial basis function (`rbf`) that we used above) require the `gamma` parameter which defines the kernel coefficient. For a more detailed explanation, you can study the kernel functions further on the [documentation](https://scikit-learn.org/stable/modules/svm.html#svm-kernels).\n",
    "\n",
    "We will use the [`GridSearchCV()`](https://scikit-learn.org/stable/modules/generated/sklearn.model_selection.GridSearchCV.html) function to find the optimal parameters that maximise the accuracy of our model. "
   ]
  },
  {
   "cell_type": "code",
   "execution_count": 27,
   "id": "b905d258-a55a-4778-864b-51444ff2d220",
   "metadata": {},
   "outputs": [
    {
     "name": "stdout",
     "output_type": "stream",
     "text": [
      "Fitting 5 folds for each of 104 candidates, totalling 520 fits\n"
     ]
    },
    {
     "data": {
      "text/plain": [
       "{'C': 1.0, 'gamma': 'scale', 'kernel': 'sigmoid'}"
      ]
     },
     "metadata": {},
     "output_type": "display_data"
    },
    {
     "name": "stdout",
     "output_type": "stream",
     "text": [
      "              precision    recall  f1-score   support\n",
      "\n",
      "           0       0.91      0.86      0.89        36\n",
      "           1       0.87      0.92      0.89        36\n",
      "\n",
      "    accuracy                           0.89        72\n",
      "   macro avg       0.89      0.89      0.89        72\n",
      "weighted avg       0.89      0.89      0.89        72\n",
      "\n"
     ]
    }
   ],
   "source": [
    "# define parameters range or set more than one sklearn-given options\n",
    "param_grid = {'C': np.logspace(-2, 10, 13), \n",
    "              'gamma': ['scale', 'auto'], \n",
    "              'kernel': ['linear', 'poly', 'rbf', 'sigmoid']\n",
    "             }\n",
    "\n",
    "gridcv = GridSearchCV(SVC(), param_grid, refit=True, cv=5, verbose=1, n_jobs=-1)\n",
    "\n",
    "\n",
    "# fit the model for grid search \n",
    "gridcv.fit(X_train, y_train) \n",
    " \n",
    "# display best parameters after tuning \n",
    "display(gridcv.best_params_) \n",
    "gridcv_pred = gridcv.predict(X_test) \n",
    "   \n",
    "# classification report \n",
    "print(classification_report(y_test, gridcv_pred)) "
   ]
  },
  {
   "cell_type": "markdown",
   "id": "224b7818-bd87-4cb6-ba98-c8ea9ab57462",
   "metadata": {},
   "source": [
    "### Feature Selection"
   ]
  },
  {
   "cell_type": "markdown",
   "id": "645a72c4-4e54-4155-bb29-6b4f5d9ee5e3",
   "metadata": {},
   "source": [
    "Ofter when we have a lot of features in our dataset we want to eliminate those that do not contribute much to the classification, or select the featues that drive the classification.One of the most used feature selection techniques is __Recursive Feature Elimination (RFE)__. Given an external estimator that assigns weights to features (e.g., the coefficients of a linear model), the goal of recursive feature elimination (RFE) is to select features by recursively considering smaller and smaller sets of features. First, the estimator is trained on the initial set of features and the importance of each feature is obtained either through any specific attribute or callable. Then, the least important features are pruned from current set of features. That procedure is recursively repeated on the pruned set until the desired number of features to select is eventually reached. To find out more about RFE or other feature selection methods, read thourgh the [documentation](https://scikit-learn.org/stable/modules/classes.html#module-sklearn.feature_selection). Here we will use the cross-validation RFE function [`RFECV()`](https://scikit-learn.org/stable/modules/generated/sklearn.feature_selection.RFECV.html#sklearn.feature_selection.RFECV).   \n",
    "\n",
    "We will use the [`NuSVC()`](https://scikit-learn.org/stable/modules/generated/sklearn.svm.NuSVC.html) function which is similar to the previously used SVC but uses the `nu` parameter to control the number of support vectors. "
   ]
  },
  {
   "cell_type": "code",
   "execution_count": 28,
   "id": "1043f26b-4152-4236-a0eb-445f9eeda419",
   "metadata": {},
   "outputs": [
    {
     "name": "stdout",
     "output_type": "stream",
     "text": [
      "CPU times: user 1min 50s, sys: 1.55 s, total: 1min 52s\n",
      "Wall time: 16.8 s\n"
     ]
    },
    {
     "data": {
      "text/plain": [
       "'optimal n of features: 16'"
      ]
     },
     "metadata": {},
     "output_type": "display_data"
    }
   ],
   "source": [
    "# define the classifier of choice and its parameters\n",
    "clf = NuSVC(\n",
    "    nu=0.5, \n",
    "    kernel='linear', \n",
    "    gamma='scale'\n",
    ")\n",
    "\n",
    "# create the rfe object\n",
    "rfecv = RFECV(\n",
    "    estimator=clf,\n",
    "    step=1,\n",
    "    cv=5,\n",
    "    scoring=\"accuracy\",\n",
    "    min_features_to_select=1,\n",
    ")\n",
    "\n",
    "%time rfecv.fit(X_train, y_train)\n",
    "\n",
    "display('optimal n of features: %d' % rfecv.n_features_)\n"
   ]
  },
  {
   "cell_type": "code",
   "execution_count": 31,
   "id": "49be461c-5e7c-4d70-bba9-52e91c843c47",
   "metadata": {},
   "outputs": [
    {
     "name": "stderr",
     "output_type": "stream",
     "text": [
      "/home/mk218/anaconda3/envs/py38/lib/python3.8/site-packages/sklearn/utils/deprecation.py:103: FutureWarning: The `grid_scores_` attribute is deprecated in version 1.0 in favor of `cv_results_` and will be removed in version 1.2.\n",
      "  warnings.warn(msg, category=FutureWarning)\n",
      "/home/mk218/anaconda3/envs/py38/lib/python3.8/site-packages/seaborn/_decorators.py:36: FutureWarning: Pass the following variables as keyword args: x, y. From version 0.12, the only valid positional argument will be `data`, and passing other arguments without an explicit keyword will result in an error or misinterpretation.\n",
      "  warnings.warn(\n",
      "/home/mk218/anaconda3/envs/py38/lib/python3.8/site-packages/sklearn/utils/deprecation.py:103: FutureWarning: The `grid_scores_` attribute is deprecated in version 1.0 in favor of `cv_results_` and will be removed in version 1.2.\n",
      "  warnings.warn(msg, category=FutureWarning)\n",
      "/home/mk218/anaconda3/envs/py38/lib/python3.8/site-packages/seaborn/_decorators.py:36: FutureWarning: Pass the following variables as keyword args: x, y. From version 0.12, the only valid positional argument will be `data`, and passing other arguments without an explicit keyword will result in an error or misinterpretation.\n",
      "  warnings.warn(\n",
      "/home/mk218/anaconda3/envs/py38/lib/python3.8/site-packages/sklearn/utils/deprecation.py:103: FutureWarning: The `grid_scores_` attribute is deprecated in version 1.0 in favor of `cv_results_` and will be removed in version 1.2.\n",
      "  warnings.warn(msg, category=FutureWarning)\n",
      "/home/mk218/anaconda3/envs/py38/lib/python3.8/site-packages/seaborn/_decorators.py:36: FutureWarning: Pass the following variables as keyword args: x, y. From version 0.12, the only valid positional argument will be `data`, and passing other arguments without an explicit keyword will result in an error or misinterpretation.\n",
      "  warnings.warn(\n",
      "/home/mk218/anaconda3/envs/py38/lib/python3.8/site-packages/sklearn/utils/deprecation.py:103: FutureWarning: The `grid_scores_` attribute is deprecated in version 1.0 in favor of `cv_results_` and will be removed in version 1.2.\n",
      "  warnings.warn(msg, category=FutureWarning)\n",
      "/home/mk218/anaconda3/envs/py38/lib/python3.8/site-packages/seaborn/_decorators.py:36: FutureWarning: Pass the following variables as keyword args: x, y. From version 0.12, the only valid positional argument will be `data`, and passing other arguments without an explicit keyword will result in an error or misinterpretation.\n",
      "  warnings.warn(\n"
     ]
    },
    {
     "data": {
      "image/png": "[encoded data removed]",
      "text/plain": [
       "<Figure size 432x288 with 1 Axes>"
      ]
     },
     "metadata": {
      "needs_background": "light"
     },
     "output_type": "display_data"
    }
   ],
   "source": [
    "# plot the change in accuracy when looking at the step-wise different number of features\n",
    "plt.xlabel(\"number of features selected\")\n",
    "plt.ylabel(\"accuracy\")\n",
    "for i in range(0,5):\n",
    "    sns.lineplot(\n",
    "        range(1, len(rfecv.grid_scores_) + 1),\n",
    "        rfecv.grid_scores_[:, i],\n",
    "        label=f'CV fold {i+1}'\n",
    "    )"
   ]
  },
  {
   "cell_type": "markdown",
   "id": "35499255-9fe5-45c4-882c-80e1681123a1",
   "metadata": {},
   "source": [
    "### __Your turn...__\n",
    "\n",
    "Try defining a new classifier with the [`LinearSVC()`](https://scikit-learn.org/stable/modules/generated/sklearn.svm.LinearSVC.html) function and perform a grid search to decide the best `C` values for the model. \n",
    "\n",
    "Then apply RFE cross-validation and use the optimal number of features and the selected features to run your model. _Hint_: to get the selected features use the `rfecv.support_` attribute which gives you a mask [True (selected), False (not selected)] array of all the features.  \n"
   ]
  },
  {
   "cell_type": "code",
   "execution_count": null,
   "id": "77732eca-b143-4861-8048-6725b188ddd3",
   "metadata": {},
   "outputs": [],
   "source": [
    "# define the classifier \n",
    "\n",
    "# set the parameter grid \n",
    "\n",
    "# create the rfe object\n",
    "\n"
   ]
  },
  {
   "cell_type": "markdown",
   "id": "0070439f-a529-4a05-9dbd-c1af8d4a1c26",
   "metadata": {},
   "source": [
    "#### Regression\n",
    "\n",
    "Load an appropriate dataset with continuous target variables and repeat the above parts of the tutorial for Support Vector Regression models.\n",
    "\n",
    "The [`SVR()`](https://scikit-learn.org/stable/modules/generated/sklearn.svm.SVR.html) function requires the same parameters that you encountered before (C, kernel, gamma (for non-linear kernels) etc) with an additional parameter `epsilon` being added. It specifies the epsilon-tube within which no penalty is associated in the training loss function with points predicted within a distance epsilon from the actual value. Similar to the classification objects we used above, sklearn defines [`NuSVR()`](https://scikit-learn.org/stable/modules/generated/sklearn.svm.NuSVR.html#sklearn.svm.NuSVR) and [`LinearSVR()`](https://scikit-learn.org/stable/modules/generated/sklearn.svm.LinearSVR.html#sklearn.svm.LinearSVR) objects for regression tasks as well. "
   ]
  },
  {
   "cell_type": "code",
   "execution_count": 40,
   "id": "625c700f-33ae-4063-a6a2-50da3945ba7e",
   "metadata": {},
   "outputs": [],
   "source": [
    "# split the data into train and test sets; the BMI values which will be our target (y) for this regression example \n",
    "X_train_reg_unscaled, X_test_reg_unscaled, y_train_reg, y_test_reg = train_test_split(diabetes_metabol_plasma.iloc[:,6:], diabetes_metabol_plasma.BMI, test_size=0.2, random_state=56)\n",
    "\n",
    "# scaling \n",
    "scaler = StandardScaler()\n",
    "X_train_reg = scaler.fit_transform(X_train_reg_unscaled)\n",
    "X_test_reg = scaler.transform(X_test_reg_unscaled)\n"
   ]
  },
  {
   "cell_type": "code",
   "execution_count": 41,
   "id": "60515a99-1784-45a3-83ad-fc750b8caacb",
   "metadata": {},
   "outputs": [],
   "source": [
    "# define the regressor with the default sklearn parameters \n",
    "regr = SVR() # here the epsilon value is the default 0.1\n",
    "\n",
    "regr.fit(X_train_reg, y_train_reg)\n",
    "y_pred_reg = regr.predict(X_test_reg)\n",
    "\n",
    "r2 = r2_score(y_test_reg, y_pred_reg) # another metric used in regression is Mean Squared Error (MSE)\n",
    "\n",
    "# try to plot these results \n"
   ]
  },
  {
   "cell_type": "markdown",
   "id": "87aab975-f9e5-4544-9910-1b86ea8c8152",
   "metadata": {},
   "source": [
    "_Hint:_ sklearn has a few good examples for plotting results -- a few to look at is this [comparison of kernel ridge regression and SVR](https://scikit-learn.org/stable/auto_examples/miscellaneous/plot_kernel_ridge_regression.html#sphx-glr-auto-examples-miscellaneous-plot-kernel-ridge-regression-py) and the examples on [model complexity influence](https://scikit-learn.org/stable/auto_examples/applications/plot_model_complexity_influence.html#sphx-glr-auto-examples-applications-plot-model-complexity-influence-py)\n",
    "\n",
    "In addition make sure to investigate the different metrics used to evaluate regression models, some examples include the r2 score, mean squared error, mean absolute error, and others.  \n",
    "\n"
   ]
  }
 ],
 "metadata": {
  "kernelspec": {
   "display_name": "py38",
   "language": "python",
   "name": "py38"
  },
  "language_info": {
   "codemirror_mode": {
    "name": "ipython",
    "version": 3
   },
   "file_extension": ".py",
   "mimetype": "text/x-python",
   "name": "python",
   "nbconvert_exporter": "python",
   "pygments_lexer": "ipython3",
   "version": "3.8.12"
  }
 },
 "nbformat": 4,
 "nbformat_minor": 5
}
